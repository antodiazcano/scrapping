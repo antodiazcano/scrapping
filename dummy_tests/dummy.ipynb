{
 "cells": [
  {
   "cell_type": "code",
   "execution_count": 1,
   "metadata": {},
   "outputs": [],
   "source": [
    "from bs4 import BeautifulSoup"
   ]
  },
  {
   "cell_type": "code",
   "execution_count": 2,
   "metadata": {},
   "outputs": [],
   "source": [
    "with open(\"html_extamples/piso2.html\", 'r', encoding='utf-8') as archivo:\n",
    "    contenido_html = archivo.read()\n",
    "soup = BeautifulSoup(contenido_html, 'html.parser')"
   ]
  },
  {
   "cell_type": "code",
   "execution_count": 3,
   "metadata": {},
   "outputs": [],
   "source": [
    "def get_number_of_photos(soup) -> int:\n",
    "    photos_horizontal = soup.find_all(\n",
    "        \"div\",\n",
    "        {\n",
    "            \"class\": \"placeholder-multimedia image overlay-box horizontal printable mb-small\"\n",
    "        },\n",
    "    )\n",
    "    photos_vertical = soup.find_all(\n",
    "        \"div\",\n",
    "        {\n",
    "            \"class\": \"placeholder-multimedia image overlay-box vertical printable mb-small\"\n",
    "        },\n",
    "    )\n",
    "    hidden_photos_horizontal = soup.find_all(\n",
    "        \"div\",\n",
    "        {\"class\": \"placeholder-multimedia image overlay-box horizontal mb-small\"},\n",
    "    )\n",
    "    hidden_photos_vertical = soup.find_all(\n",
    "        \"div\",\n",
    "        {\"class\": \"placeholder-multimedia image overlay-box vertical mb-small\"},\n",
    "    )\n",
    "    photos = (\n",
    "        photos_horizontal\n",
    "        + photos_vertical\n",
    "        + hidden_photos_horizontal\n",
    "        + hidden_photos_vertical\n",
    "    )\n",
    "    photos = [str(photo) for photo in photos if \"plano\" not in str(photo).lower()]\n",
    "\n",
    "    return len(photos)\n"
   ]
  },
  {
   "cell_type": "code",
   "execution_count": 4,
   "metadata": {},
   "outputs": [
    {
     "data": {
      "text/plain": [
       "40"
      ]
     },
     "execution_count": 4,
     "metadata": {},
     "output_type": "execute_result"
    }
   ],
   "source": [
    "get_number_of_photos(soup)"
   ]
  },
  {
   "cell_type": "code",
   "execution_count": null,
   "metadata": {},
   "outputs": [],
   "source": []
  }
 ],
 "metadata": {
  "kernelspec": {
   "display_name": "Python 3",
   "language": "python",
   "name": "python3"
  },
  "language_info": {
   "codemirror_mode": {
    "name": "ipython",
    "version": 3
   },
   "file_extension": ".py",
   "mimetype": "text/x-python",
   "name": "python",
   "nbconvert_exporter": "python",
   "pygments_lexer": "ipython3",
   "version": "3.11.1"
  }
 },
 "nbformat": 4,
 "nbformat_minor": 2
}
